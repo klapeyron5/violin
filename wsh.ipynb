{
 "cells": [
  {
   "cell_type": "code",
   "execution_count": 1,
   "metadata": {},
   "outputs": [],
   "source": [
    "from violin import Transform\n",
    "\n",
    "class T0(Transform):\n",
    "        _DECS_TEMPLATES_DINIT_ = [0,1]  # TODO should raise\n",
    "        def _init(self, **cnfg):\n",
    "            pass\n",
    "        def _call(self, **data):\n",
    "            return {}"
   ]
  },
  {
   "cell_type": "code",
   "execution_count": 1,
   "metadata": {},
   "outputs": [],
   "source": [
    "from violin.transform import TransformInit, Transform\n",
    "TransformInit._DECS_TEMPLATES_DINIT_ = [0,1]  # TODO should raise\n",
    "\n",
    "class T0(Transform):\n",
    "        def _init(self, **cnfg):\n",
    "            pass\n",
    "        def _call(self, **data):\n",
    "            return {}"
   ]
  },
  {
   "cell_type": "code",
   "execution_count": 2,
   "metadata": {},
   "outputs": [
    {
     "data": {
      "text/plain": [
       "('DINIT_', 'DCALL_IMM_', 'DCALL_MUT_', 'DCALL_OUT_')"
      ]
     },
     "execution_count": 2,
     "metadata": {},
     "output_type": "execute_result"
    }
   ],
   "source": [
    "T0.TEMPLATES_STARTSWITH"
   ]
  },
  {
   "cell_type": "code",
   "execution_count": null,
   "metadata": {},
   "outputs": [],
   "source": []
  }
 ],
 "metadata": {
  "kernelspec": {
   "display_name": "base",
   "language": "python",
   "name": "python3"
  },
  "language_info": {
   "codemirror_mode": {
    "name": "ipython",
    "version": 3
   },
   "file_extension": ".py",
   "mimetype": "text/x-python",
   "name": "python",
   "nbconvert_exporter": "python",
   "pygments_lexer": "ipython3",
   "version": "3.1.0"
  }
 },
 "nbformat": 4,
 "nbformat_minor": 2
}
